{
 "cells": [
  {
   "cell_type": "code",
   "execution_count": 1,
   "metadata": {
    "id": "V6E-i8xPAaNV"
   },
   "outputs": [
    {
     "name": "stderr",
     "output_type": "stream",
     "text": [
      "/media/cat/4TBSSD/anaconda3/envs/btrans2/lib/python3.8/site-packages/tqdm/auto.py:21: TqdmWarning: IProgress not found. Please update jupyter and ipywidgets. See https://ipywidgets.readthedocs.io/en/stable/user_install.html\n",
      "  from .autonotebook import tqdm as notebook_tqdm\n"
     ]
    }
   ],
   "source": [
    "%load_ext autoreload\n",
    "%autoreload 2\n",
    "\n",
    "import numpy as np\n",
    "import matplotlib.pyplot as plt\n",
    "from utils import BayesianTransformer, VisualizeBT_coin_toss, train_models_wrapper\n",
    "\n",
    "import os\n",
    "\n",
    "# sometimes need to reset nviidai_uvm from command line\n",
    "#> sudo rmmod nvidia_uvm\n",
    "#> sudo modprobe nvidia_uvm\n"
   ]
  },
  {
   "cell_type": "code",
   "execution_count": 7,
   "metadata": {
    "colab": {
     "base_uri": "https://localhost:8080/"
    },
    "id": "IaLsLYWeosig",
    "outputId": "66bdbe62-b5a4-4ff8-eee3-6f3dde198fb9"
   },
   "outputs": [
    {
     "name": "stdout",
     "output_type": "stream",
     "text": [
      "... coin toss params:  [1, 1]\n",
      "... params:  [1, 1]\n",
      "searching for model:  /home/cat/code/CHERI_Aug_2023/model_nlayers_1_ntraining_10000_ncoin_tosses_10_coin_toss_[1, 1].btrans\n",
      "Loading model:  /home/cat/code/CHERI_Aug_2023/model_nlayers_1_ntraining_10000_a0_1_b0_1.btrans\n",
      "... resetting cuda device ...\n",
      "... cuda available:  True\n",
      "Moving model to device:  cuda\n",
      "Loading:  /home/cat/code/CHERI_Aug_2023/model_nlayers_1_ntraining_10000_a0_1_b0_1.btrans\n",
      "Moving model to device:  cpu\n"
     ]
    }
   ],
   "source": [
    "#########################################################\n",
    "########### LOAD A SAVED TRANSFORMER MODEL ##############\n",
    "#########################################################\n",
    "\n",
    "'''\n",
    "    This notebook loads a saved transformer model and visualizes the predictions\n",
    "\n",
    "    The model is saved as a .btrans file\n",
    "\n",
    "    The model is loaded using the BayesianTransformer class\n",
    "\n",
    "    The model is visualized using the VisualizeBT_coin_toss class\n",
    "\n",
    "'''\n",
    "\n",
    "\n",
    "# but for now all models were trained with 100 episdoes per\n",
    "n_episodes_batch = 100  #TODO: Decrease this to 16 or 32, or some multiple of 2\n",
    "\n",
    "# how many episodes to test on\n",
    "n_test_trials = 100\n",
    "\n",
    "# number of times we toss the coin or roll the dice\n",
    "n_trials = len_episode = 10 \n",
    "\n",
    "# how often we predict during training; not used for this base model - but other models have this enabled\n",
    "predict_during_training_interval = 100\n",
    "predict_during_training = True                  # this saves model predictions every x timesteps\n",
    "\n",
    "# # of layers of the transformer\n",
    "n_layers_array = [1]  # [1,10,100]\n",
    "\n",
    "####################################\n",
    "n_training_epochs_array = [10000]    #  [10,100,1000, 10000]\n",
    "\n",
    "# OPTION #1\n",
    "coin_toss_params_list = [\n",
    "               [1,1],\n",
    "               #[5,1.2],\n",
    "               #[0.1,0.1],\n",
    "               #[15,50],\n",
    "             ]\n",
    "\n",
    "##############################################\n",
    "game_type = \"coin_toss\"\n",
    "params_list = dice_roll_params_list if game_type==\"dice_roll\" else coin_toss_params_list\n",
    "\n",
    "####################################\n",
    "#\n",
    "coin_toss_params = dice_roll_params = coin_toss_params_list[0]\n",
    "n_layers = n_layers_array[0]\n",
    "n_training_epochs = n_training_epochs_array[0]\n",
    "params = params_list[0]\n",
    "#\n",
    "bt = BayesianTransformer(n_layers,\n",
    "                          n_training_epochs,\n",
    "                          n_episodes_batch,\n",
    "                          n_trials,\n",
    "                          game_type,\n",
    "                          coin_toss_params,\n",
    "                          dice_roll_params)        \n",
    "\n",
    "#\n",
    "bt.root_dir = '/home/cat/code/CHERI_Aug_2023/'\n",
    "\n",
    "#\n",
    "bt.n_test_trials = n_test_trials\n",
    "\n",
    "# if using multi distributions\n",
    "bt.params_list = params_list\n",
    "bt.use_multi_distributions = False\n",
    "\n",
    "#\n",
    "bt.predict_during_training = predict_during_training\n",
    "bt.predict_during_training_interval = predict_during_training_interval\n",
    "\n",
    "# make the model filename\n",
    "bt.make_model_name()\n",
    "\n",
    "print (\"Loading model: \", bt.fname_model)\n",
    "bt.load_model()"
   ]
  },
  {
   "cell_type": "code",
   "execution_count": 9,
   "metadata": {},
   "outputs": [
    {
     "name": "stdout",
     "output_type": "stream",
     "text": [
      "test data:  tensor([2, 1, 0, 1, 0, 0, 0, 1, 1, 0, 1], device='cuda:0')\n",
      "transformer prediction:  [0.47033462 0.30685693 0.49329227 0.39258367 0.48984513 0.5689247\n",
      " 0.62043446 0.5544575  0.47408918 0.5488002  0.47592548]\n",
      "a:  1  b:  2  y:  0.3333333333333333\n",
      "a:  2  b:  2  y:  0.5\n",
      "a:  2  b:  3  y:  0.4\n",
      "a:  3  b:  3  y:  0.5\n",
      "a:  4  b:  3  y:  0.5714285714285714\n",
      "a:  5  b:  3  y:  0.625\n",
      "a:  5  b:  4  y:  0.5555555555555556\n",
      "a:  5  b:  5  y:  0.5\n",
      "a:  6  b:  5  y:  0.5454545454545454\n",
      "a:  6  b:  6  y:  0.5\n",
      "bayesian optimal:  [0.5        0.33333333 0.5        0.4        0.5        0.57142857\n",
      " 0.625      0.55555556 0.5        0.54545455 0.5       ]\n"
     ]
    },
    {
     "data": {
      "image/png": "[encoded data removed]",
      "text/plain": [
       "<Figure size 500x400 with 1 Axes>"
      ]
     },
     "metadata": {},
     "output_type": "display_data"
    }
   ],
   "source": [
    "#####################################################\n",
    "############## VISUALIZE RESULTS ####################\n",
    "#####################################################\n",
    "\n",
    "# run this notebook several times to visualize the transformer prediction against bayesian optimal and frequentist predictions\n",
    "\n",
    "#\n",
    "vis = VisualizeBT_coin_toss(bt)\n",
    "vis.save_svg=False\n",
    "vis.show_kl_entropy = False\n",
    "vis.use_multi_distributions = False\n",
    "vis.show_frequentist = True\n",
    "vis.show_examples(1)\n",
    "\n",
    "#\n"
   ]
  },
  {
   "cell_type": "code",
   "execution_count": null,
   "metadata": {},
   "outputs": [],
   "source": [
    "##################\n",
    "##################\n",
    "##################\n",
    "\n",
    "#\n",
    "vis.plot_L1()\n",
    "\n"
   ]
  },
  {
   "cell_type": "code",
   "execution_count": 10,
   "metadata": {
    "id": "tAP69qxYczwK"
   },
   "outputs": [
    {
     "name": "stdout",
     "output_type": "stream",
     "text": [
      "Sample from Dirichlet distribution: [0.4771895  0.33177353 0.19103697]\n"
     ]
    }
   ],
   "source": [
    "# Generate a sample from the Dirichlet distribution\n",
    "alpha = [1, 1, 1]\n",
    "\n",
    "sample = np.random.dirichlet(alpha)\n",
    "\n",
    "print(\"Sample from Dirichlet distribution:\", sample)"
   ]
  },
  {
   "cell_type": "code",
   "execution_count": 2,
   "metadata": {
    "id": "2WPFcqANczza"
   },
   "outputs": [
    {
     "data": {
      "text/plain": [
       "'cuda'"
      ]
     },
     "execution_count": 2,
     "metadata": {},
     "output_type": "execute_result"
    }
   ],
   "source": [
    "import torch\n",
    "import matplotlib.pyplot as plt\n",
    "device = \"cuda\" if torch.cuda.is_available() else \"cpu\"\n",
    "\n",
    "device"
   ]
  },
  {
   "cell_type": "code",
   "execution_count": null,
   "metadata": {
    "id": "DeSkFCXfcz_l"
   },
   "outputs": [],
   "source": []
  },
  {
   "cell_type": "code",
   "execution_count": null,
   "metadata": {
    "id": "t56NgS-Cc0Cq"
   },
   "outputs": [],
   "source": []
  },
  {
   "cell_type": "code",
   "execution_count": null,
   "metadata": {
    "id": "OI8tXOyTvltx"
   },
   "outputs": [],
   "source": []
  }
 ],
 "metadata": {
  "accelerator": "GPU",
  "colab": {
   "provenance": []
  },
  "gpuClass": "standard",
  "kernelspec": {
   "display_name": "Python 3 (ipykernel)",
   "language": "python",
   "name": "python3"
  },
  "language_info": {
   "codemirror_mode": {
    "name": "ipython",
    "version": 3
   },
   "file_extension": ".py",
   "mimetype": "text/x-python",
   "name": "python",
   "nbconvert_exporter": "python",
   "pygments_lexer": "ipython3",
   "version": "3.8.0"
  },
  "widgets": {
   "application/vnd.jupyter.widget-state+json": {
    "0ea0087cace7464bbe357f432a5fb2e6": {
     "model_module": "@jupyter-widgets/base",
     "model_module_version": "1.2.0",
     "model_name": "LayoutModel",
     "state": {
      "_model_module": "@jupyter-widgets/base",
      "_model_module_version": "1.2.0",
      "_model_name": "LayoutModel",
      "_view_count": null,
      "_view_module": "@jupyter-widgets/base",
      "_view_module_version": "1.2.0",
      "_view_name": "LayoutView",
      "align_content": null,
      "align_items": null,
      "align_self": null,
      "border": null,
      "bottom": null,
      "display": null,
      "flex": null,
      "flex_flow": null,
      "grid_area": null,
      "grid_auto_columns": null,
      "grid_auto_flow": null,
      "grid_auto_rows": null,
      "grid_column": null,
      "grid_gap": null,
      "grid_row": null,
      "grid_template_areas": null,
      "grid_template_columns": null,
      "grid_template_rows": null,
      "height": null,
      "justify_content": null,
      "justify_items": null,
      "left": null,
      "margin": null,
      "max_height": null,
      "max_width": null,
      "min_height": null,
      "min_width": null,
      "object_fit": null,
      "object_position": null,
      "order": null,
      "overflow": null,
      "overflow_x": null,
      "overflow_y": null,
      "padding": null,
      "right": null,
      "top": null,
      "visibility": null,
      "width": null
     }
    },
    "3174e64e7640458aad6d231460623406": {
     "model_module": "@jupyter-widgets/controls",
     "model_module_version": "1.5.0",
     "model_name": "HBoxModel",
     "state": {
      "_dom_classes": [],
      "_model_module": "@jupyter-widgets/controls",
      "_model_module_version": "1.5.0",
      "_model_name": "HBoxModel",
      "_view_count": null,
      "_view_module": "@jupyter-widgets/controls",
      "_view_module_version": "1.5.0",
      "_view_name": "HBoxView",
      "box_style": "",
      "children": [
       "IPY_MODEL_d344c7b701334ed38500064f9e0c258c",
       "IPY_MODEL_4b7f173c2aed4df8b58bba587cd38b62",
       "IPY_MODEL_984c15b8c8284e9bb6d6ef8f28ae34ef"
      ],
      "layout": "IPY_MODEL_c1c053596d694a2c8f40f6c7bb6fb955"
     }
    },
    "40df75d09fc94b5a818f83c28002edf8": {
     "model_module": "@jupyter-widgets/controls",
     "model_module_version": "1.5.0",
     "model_name": "ProgressStyleModel",
     "state": {
      "_model_module": "@jupyter-widgets/controls",
      "_model_module_version": "1.5.0",
      "_model_name": "ProgressStyleModel",
      "_view_count": null,
      "_view_module": "@jupyter-widgets/base",
      "_view_module_version": "1.2.0",
      "_view_name": "StyleView",
      "bar_color": null,
      "description_width": ""
     }
    },
    "4b7f173c2aed4df8b58bba587cd38b62": {
     "model_module": "@jupyter-widgets/controls",
     "model_module_version": "1.5.0",
     "model_name": "FloatProgressModel",
     "state": {
      "_dom_classes": [],
      "_model_module": "@jupyter-widgets/controls",
      "_model_module_version": "1.5.0",
      "_model_name": "FloatProgressModel",
      "_view_count": null,
      "_view_module": "@jupyter-widgets/controls",
      "_view_module_version": "1.5.0",
      "_view_name": "ProgressView",
      "bar_style": "success",
      "description": "",
      "description_tooltip": null,
      "layout": "IPY_MODEL_9d2f362e9d114291ab5545afb73e895f",
      "max": 1000,
      "min": 0,
      "orientation": "horizontal",
      "style": "IPY_MODEL_40df75d09fc94b5a818f83c28002edf8",
      "value": 1000
     }
    },
    "67a933ce51054ba6843510f19810fe95": {
     "model_module": "@jupyter-widgets/base",
     "model_module_version": "1.2.0",
     "model_name": "LayoutModel",
     "state": {
      "_model_module": "@jupyter-widgets/base",
      "_model_module_version": "1.2.0",
      "_model_name": "LayoutModel",
      "_view_count": null,
      "_view_module": "@jupyter-widgets/base",
      "_view_module_version": "1.2.0",
      "_view_name": "LayoutView",
      "align_content": null,
      "align_items": null,
      "align_self": null,
      "border": null,
      "bottom": null,
      "display": null,
      "flex": null,
      "flex_flow": null,
      "grid_area": null,
      "grid_auto_columns": null,
      "grid_auto_flow": null,
      "grid_auto_rows": null,
      "grid_column": null,
      "grid_gap": null,
      "grid_row": null,
      "grid_template_areas": null,
      "grid_template_columns": null,
      "grid_template_rows": null,
      "height": null,
      "justify_content": null,
      "justify_items": null,
      "left": null,
      "margin": null,
      "max_height": null,
      "max_width": null,
      "min_height": null,
      "min_width": null,
      "object_fit": null,
      "object_position": null,
      "order": null,
      "overflow": null,
      "overflow_x": null,
      "overflow_y": null,
      "padding": null,
      "right": null,
      "top": null,
      "visibility": null,
      "width": null
     }
    },
    "76e4a591dff0429887d02f11be68fe56": {
     "model_module": "@jupyter-widgets/controls",
     "model_module_version": "1.5.0",
     "model_name": "DescriptionStyleModel",
     "state": {
      "_model_module": "@jupyter-widgets/controls",
      "_model_module_version": "1.5.0",
      "_model_name": "DescriptionStyleModel",
      "_view_count": null,
      "_view_module": "@jupyter-widgets/base",
      "_view_module_version": "1.2.0",
      "_view_name": "StyleView",
      "description_width": ""
     }
    },
    "984c15b8c8284e9bb6d6ef8f28ae34ef": {
     "model_module": "@jupyter-widgets/controls",
     "model_module_version": "1.5.0",
     "model_name": "HTMLModel",
     "state": {
      "_dom_classes": [],
      "_model_module": "@jupyter-widgets/controls",
      "_model_module_version": "1.5.0",
      "_model_name": "HTMLModel",
      "_view_count": null,
      "_view_module": "@jupyter-widgets/controls",
      "_view_module_version": "1.5.0",
      "_view_name": "HTMLView",
      "description": "",
      "description_tooltip": null,
      "layout": "IPY_MODEL_67a933ce51054ba6843510f19810fe95",
      "placeholder": "​",
      "style": "IPY_MODEL_76e4a591dff0429887d02f11be68fe56",
      "value": " 1000/1000 [02:27&lt;00:00,  4.63it/s]"
     }
    },
    "9d2f362e9d114291ab5545afb73e895f": {
     "model_module": "@jupyter-widgets/base",
     "model_module_version": "1.2.0",
     "model_name": "LayoutModel",
     "state": {
      "_model_module": "@jupyter-widgets/base",
      "_model_module_version": "1.2.0",
      "_model_name": "LayoutModel",
      "_view_count": null,
      "_view_module": "@jupyter-widgets/base",
      "_view_module_version": "1.2.0",
      "_view_name": "LayoutView",
      "align_content": null,
      "align_items": null,
      "align_self": null,
      "border": null,
      "bottom": null,
      "display": null,
      "flex": null,
      "flex_flow": null,
      "grid_area": null,
      "grid_auto_columns": null,
      "grid_auto_flow": null,
      "grid_auto_rows": null,
      "grid_column": null,
      "grid_gap": null,
      "grid_row": null,
      "grid_template_areas": null,
      "grid_template_columns": null,
      "grid_template_rows": null,
      "height": null,
      "justify_content": null,
      "justify_items": null,
      "left": null,
      "margin": null,
      "max_height": null,
      "max_width": null,
      "min_height": null,
      "min_width": null,
      "object_fit": null,
      "object_position": null,
      "order": null,
      "overflow": null,
      "overflow_x": null,
      "overflow_y": null,
      "padding": null,
      "right": null,
      "top": null,
      "visibility": null,
      "width": null
     }
    },
    "c1c053596d694a2c8f40f6c7bb6fb955": {
     "model_module": "@jupyter-widgets/base",
     "model_module_version": "1.2.0",
     "model_name": "LayoutModel",
     "state": {
      "_model_module": "@jupyter-widgets/base",
      "_model_module_version": "1.2.0",
      "_model_name": "LayoutModel",
      "_view_count": null,
      "_view_module": "@jupyter-widgets/base",
      "_view_module_version": "1.2.0",
      "_view_name": "LayoutView",
      "align_content": null,
      "align_items": null,
      "align_self": null,
      "border": null,
      "bottom": null,
      "display": null,
      "flex": null,
      "flex_flow": null,
      "grid_area": null,
      "grid_auto_columns": null,
      "grid_auto_flow": null,
      "grid_auto_rows": null,
      "grid_column": null,
      "grid_gap": null,
      "grid_row": null,
      "grid_template_areas": null,
      "grid_template_columns": null,
      "grid_template_rows": null,
      "height": null,
      "justify_content": null,
      "justify_items": null,
      "left": null,
      "margin": null,
      "max_height": null,
      "max_width": null,
      "min_height": null,
      "min_width": null,
      "object_fit": null,
      "object_position": null,
      "order": null,
      "overflow": null,
      "overflow_x": null,
      "overflow_y": null,
      "padding": null,
      "right": null,
      "top": null,
      "visibility": null,
      "width": null
     }
    },
    "ca61cc55334b4ebfa3b95b4f7e2da79c": {
     "model_module": "@jupyter-widgets/controls",
     "model_module_version": "1.5.0",
     "model_name": "DescriptionStyleModel",
     "state": {
      "_model_module": "@jupyter-widgets/controls",
      "_model_module_version": "1.5.0",
      "_model_name": "DescriptionStyleModel",
      "_view_count": null,
      "_view_module": "@jupyter-widgets/base",
      "_view_module_version": "1.2.0",
      "_view_name": "StyleView",
      "description_width": ""
     }
    },
    "d344c7b701334ed38500064f9e0c258c": {
     "model_module": "@jupyter-widgets/controls",
     "model_module_version": "1.5.0",
     "model_name": "HTMLModel",
     "state": {
      "_dom_classes": [],
      "_model_module": "@jupyter-widgets/controls",
      "_model_module_version": "1.5.0",
      "_model_name": "HTMLModel",
      "_view_count": null,
      "_view_module": "@jupyter-widgets/controls",
      "_view_module_version": "1.5.0",
      "_view_name": "HTMLView",
      "description": "",
      "description_tooltip": null,
      "layout": "IPY_MODEL_0ea0087cace7464bbe357f432a5fb2e6",
      "placeholder": "​",
      "style": "IPY_MODEL_ca61cc55334b4ebfa3b95b4f7e2da79c",
      "value": "100%"
     }
    }
   }
  }
 },
 "nbformat": 4,
 "nbformat_minor": 4
}
